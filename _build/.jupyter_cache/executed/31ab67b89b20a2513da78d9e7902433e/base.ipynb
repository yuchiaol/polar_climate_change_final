{
 "cells": [
  {
   "cell_type": "code",
   "execution_count": 1,
   "id": "4ca320d2",
   "metadata": {},
   "outputs": [],
   "source": [
    "import numpy as np\n",
    "\n",
    "nx = 20\n",
    "Q = 341.3 # W / m^2   \n",
    "sigma = 5.67e-8 # W / m^2 / K^4\n",
    "alpha = np.linspace(0,1,nx)\n",
    "tau = np.linspace(0.1,1,nx)\n",
    "\n",
    "Teq_obs = ((1-0.3)*Q/0.61/sigma)**0.25\n",
    "\n",
    "Teq = np.zeros((nx,nx))\n",
    "for JJ in range(nx):\n",
    "    for II in range(nx):\n",
    "        Teq[JJ,II] = ((1-alpha[JJ])*Q/tau[II]/sigma)**0.25"
   ]
  },
  {
   "cell_type": "code",
   "execution_count": 2,
   "id": "4e0b6237",
   "metadata": {},
   "outputs": [
    {
     "name": "stdout",
     "output_type": "stream",
     "text": [
      "lambda_0 = 3.31 W m-2 K-1\n"
     ]
    }
   ],
   "source": [
    "OLRobserved = 238.5  # in W/m2\n",
    "sigma = 5.67E-8  # S-B constant\n",
    "Tsobserved = 288.  # global average surface temperature\n",
    "tau = OLRobserved / sigma / Tsobserved**4  # solve for tuned value of transmissivity\n",
    "\n",
    "lambda_0 = 4 * sigma * tau * Tsobserved**3\n",
    "#  This is an example of formatted text output in Python\n",
    "print( 'lambda_0 = {:.2f} W m-2 K-1'.format(lambda_0)  )"
   ]
  }
 ],
 "metadata": {
  "jupytext": {
   "text_representation": {
    "extension": ".md",
    "format_name": "myst"
   }
  },
  "kernelspec": {
   "display_name": "Python 3",
   "language": "python",
   "name": "python3"
  },
  "language_info": {
   "codemirror_mode": {
    "name": "ipython",
    "version": 3
   },
   "file_extension": ".py",
   "mimetype": "text/x-python",
   "name": "python",
   "nbconvert_exporter": "python",
   "pygments_lexer": "ipython3",
   "version": "3.11.5"
  },
  "source_map": [
   10,
   171,
   186,
   306,
   315
  ]
 },
 "nbformat": 4,
 "nbformat_minor": 5
}
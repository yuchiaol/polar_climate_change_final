{
 "cells": [
  {
   "cell_type": "markdown",
   "id": "11122919",
   "metadata": {},
   "source": [
    "(permafrost)=\n",
    "\n",
    "# Permafrost\n",
    "\n",
    "### Frozen ground vs permafrost\n",
    "\n",
    "- Seasonally frozen ground: freezes more than 15 days per year ([The Ice Bowl](https://www.youtube.com/watch?v=8apXOwq5Nwg))\n",
    "- Permafrost (permanently frozen ground): <= 0°C for at least 2 years (not necessary having water or ice!)\n",
    "\n",
    "### Permafrost zones\n",
    "\n",
    "```{figure} /_static/lecture_specific/lecture1_figures/permafrost_map.png\n",
    "---\n",
    "scale: 55%\n",
    "align: left\n",
    "---\n",
    "Permafrost zones and locations for CO2 and methane flux measurements collected with eddy covariance (yellow) and chambers (blue). Source: [EOS](https://eos.org/science-updates/is-the-northern-permafrost-zone-a-source-or-a-sink-for-carbon)\n",
    "```\n",
    "\n",
    "### Permafrost formation\n",
    "```{figure} /_static/lecture_specific/lecture1_figures/permafrost_formation_tmp1.jpeg\n",
    "---\n",
    "scale: 55%\n",
    "align: left\n",
    "---\n",
    "This diagram explains the formation of open-system and closed-system pingos. — Credit: Encyclopædia Britannica. Source: [NSIDC](https://nsidc.org/learn/parts-cryosphere/frozen-ground-permafrost/quick-facts-frozen-ground)\n",
    "```\n",
    "\n",
    "### Factors affect permafrost\n",
    "\n",
    "- Diurnal cycle\n",
    "- Seasonal cycle\n",
    "- Geographic location\n",
    "- Elevation\n",
    "- Landscape: snow (insulator), soil type, peat, plants (evergreen trees)\n",
    "- Slope\n",
    "- Lakes and rivers: heat source, talik\n",
    "- Radiation\n",
    "\n",
    "### Thawing permafrost and climate change\n",
    "\n",
    "- Satellite observations (e.g., GRACE and ICESat)\n",
    "- Air temperature\n",
    "- Moisture\n",
    "- Active layer\n",
    "- Lakes\n",
    "- Ecosystem\n",
    "- Sea level\n",
    "\n",
    "### Biological and human activities and permafrost\n",
    "```{figure} /_static/lecture_specific/lecture1_figures/pipline_permafrost_tmp1.jpeg\n",
    "---\n",
    "scale: 45%\n",
    "align: left\n",
    "---\n",
    "NSIDC researcher Tim Schaefer stands behind an exposed ice layer at a subsidence feature, called a thermokarst, on August 19, 2012, near Toolik Lake, Alaska. Note the Alaskan pipeline in the distance. — Credit: K. Schaefer, NSIDC.\n",
    "```\n",
    "\n",
    "### Permafrost and carbon cycle\n",
    "\n",
    "- Carbon dioxide\n",
    "- Methane\n",
    "\n",
    "### Literature review\n",
    "[Sasgen et al. (2024)](https://www.nature.com/articles/s43247-024-01548-8)\n",
    "\n",
    "### Sources\n",
    "- [NSIDC All About Frozen Ground](https://nsidc.org/cryosphere/frozenground/index.html)"
   ]
  }
 ],
 "metadata": {
  "jupytext": {
   "text_representation": {
    "extension": ".md",
    "format_name": "myst"
   }
  },
  "kernelspec": {
   "display_name": "Python 3",
   "language": "python",
   "name": "python3"
  },
  "source_map": [
   10
  ]
 },
 "nbformat": 4,
 "nbformat_minor": 5
}
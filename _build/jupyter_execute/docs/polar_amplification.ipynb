{
 "cells": [
  {
   "cell_type": "markdown",
   "id": "8b8a2904",
   "metadata": {},
   "source": [
    "(polar_amplification)=\n",
    "\n",
    "# A1. Polar Amplification in simple models\n",
    "\n",
    "```{note}\n",
    "The materials and scripts are obtained from climlab tutorial: [here](https://climlab.readthedocs.io/en/latest/courseware/PolarAmplification.html)\n",
    "```"
   ]
  },
  {
   "cell_type": "code",
   "execution_count": null,
   "id": "1ab7b7a6",
   "metadata": {},
   "outputs": [],
   "source": [
    "%matplotlib inline\n",
    "import numpy as np\n",
    "import matplotlib.pyplot as plt\n",
    "import climlab\n",
    "from climlab import constants as const"
   ]
  },
  {
   "cell_type": "markdown",
   "id": "8efd0aed",
   "metadata": {},
   "source": [
    "## EBM with surface and atmosphere layers"
   ]
  },
  {
   "cell_type": "code",
   "execution_count": null,
   "id": "2ede510f",
   "metadata": {},
   "outputs": [],
   "source": [
    "ebm = climlab.GreyRadiationModel(num_lev=1, num_lat=90)\n",
    "insolation = climlab.radiation.AnnualMeanInsolation(domains=ebm.Ts.domain)\n",
    "ebm.add_subprocess('insolation', insolation)\n",
    "ebm.subprocess.SW.flux_from_space = ebm.subprocess.insolation.insolation\n",
    "print(ebm)\n",
    "\n",
    "#  add a fixed relative humidity process\n",
    "#  (will only affect surface evaporation)\n",
    "h2o = climlab.radiation.ManabeWaterVapor(state=ebm.state, **ebm.param)\n",
    "ebm.add_subprocess('H2O', h2o)\n",
    "\n",
    "#  Add surface heat fluxes\n",
    "shf = climlab.surface.SensibleHeatFlux(state=ebm.state, Cd=3E-4)\n",
    "lhf = climlab.surface.LatentHeatFlux(state=ebm.state, Cd=3E-4)\n",
    "# couple water vapor to latent heat flux process\n",
    "lhf.q = h2o.q\n",
    "ebm.add_subprocess('SHF', shf)\n",
    "ebm.add_subprocess('LHF', lhf)\n",
    "\n",
    "ebm.integrate_years(1)\n",
    "\n",
    "plt.plot(ebm.lat, ebm.Ts)\n",
    "plt.plot(ebm.lat, ebm.Tatm)"
   ]
  },
  {
   "cell_type": "code",
   "execution_count": null,
   "id": "898b9add",
   "metadata": {},
   "outputs": [],
   "source": [
    "co2ebm = climlab.process_like(ebm)\n",
    "co2ebm.subprocess['LW'].absorptivity = ebm.subprocess['LW'].absorptivity*1.1\n",
    "\n",
    "co2ebm.integrate_years(3.)\n",
    "\n",
    "#  no heat transport but with evaporation -- no polar amplification\n",
    "plt.plot(ebm.lat, co2ebm.Ts - ebm.Ts)\n",
    "plt.plot(ebm.lat, co2ebm.Tatm - ebm.Tatm)\n"
   ]
  },
  {
   "cell_type": "markdown",
   "id": "68e9e089",
   "metadata": {},
   "source": [
    "## Include meridional heat transport"
   ]
  },
  {
   "cell_type": "code",
   "execution_count": null,
   "id": "0da77e75",
   "metadata": {},
   "outputs": [],
   "source": [
    "diffebm = climlab.process_like(ebm)\n",
    "# thermal diffusivity in W/m**2/degC\n",
    "D = 0.6\n",
    "# meridional diffusivity in m**2/s\n",
    "K = D / diffebm.Tatm.domain.heat_capacity * const.a**2\n",
    "d = climlab.dynamics.MeridionalDiffusion(K=K, state={'Tatm': diffebm.Tatm}, **diffebm.param)\n",
    "diffebm.add_subprocess('diffusion', d)\n",
    "print(diffebm)\n",
    "\n",
    "diffebm.integrate_years(3)\n",
    "\n",
    "plt.plot(diffebm.lat, diffebm.Ts)\n",
    "plt.plot(diffebm.lat, diffebm.Tatm)\n"
   ]
  },
  {
   "cell_type": "code",
   "execution_count": null,
   "id": "f002deaa",
   "metadata": {},
   "outputs": [],
   "source": [
    "def inferred_heat_transport( energy_in, lat_deg ):\n",
    "    '''Returns the inferred heat transport (in PW) by integrating the net energy imbalance from pole to pole.'''\n",
    "    from scipy import integrate\n",
    "    from climlab import constants as const\n",
    "    lat_rad = np.deg2rad( lat_deg )\n",
    "    return ( 1E-15 * 2 * np.math.pi * const.a**2 * integrate.cumtrapz( np.cos(lat_rad)*energy_in,\n",
    "            x=lat_rad, initial=0. ) )\n",
    "\n",
    "#  Plot the northward heat transport in this model\n",
    "Rtoa = np.squeeze(diffebm.timeave['ASR'] - diffebm.timeave['OLR'])\n",
    "plt.plot(diffebm.lat, inferred_heat_transport(Rtoa, diffebm.lat))\n"
   ]
  },
  {
   "cell_type": "code",
   "execution_count": null,
   "id": "ce0f7127",
   "metadata": {},
   "outputs": [],
   "source": [
    "##  Now warm it up!\n",
    "co2diffebm = climlab.process_like(diffebm)\n",
    "co2diffebm.subprocess['LW'].absorptivity = diffebm.subprocess['LW'].absorptivity*1.1\n",
    "\n",
    "co2diffebm.integrate_years(5)\n",
    "\n",
    "#  with heat transport and evaporation\n",
    "#   Get some modest polar amplifcation of surface warming\n",
    "#    but larger equatorial amplification of atmospheric warming\n",
    "#    Increased atmospheric gradient = increased poleward flux.\n",
    "plt.plot(diffebm.lat, co2diffebm.Ts - diffebm.Ts, label='Ts')\n",
    "plt.plot(diffebm.lat, co2diffebm.Tatm - diffebm.Tatm, label='Tatm')\n",
    "plt.legend()\n"
   ]
  },
  {
   "cell_type": "code",
   "execution_count": null,
   "id": "294b2bbc",
   "metadata": {},
   "outputs": [],
   "source": [
    "Rtoa = np.squeeze(diffebm.timeave['ASR'] - diffebm.timeave['OLR'])\n",
    "Rtoa_co2 = np.squeeze(co2diffebm.timeave['ASR'] - co2diffebm.timeave['OLR'])\n",
    "plt.plot(diffebm.lat, inferred_heat_transport(Rtoa, diffebm.lat), label='1xCO2')\n",
    "plt.plot(diffebm.lat, inferred_heat_transport(Rtoa_co2, diffebm.lat), label='2xCO2')\n",
    "plt.legend()\n"
   ]
  },
  {
   "cell_type": "markdown",
   "id": "b8b3e88e",
   "metadata": {},
   "source": [
    "## Exclude evaporation"
   ]
  },
  {
   "cell_type": "code",
   "execution_count": null,
   "id": "ef788d2e",
   "metadata": {},
   "outputs": [],
   "source": [
    "diffebm2 = climlab.process_like(diffebm)\n",
    "diffebm2.remove_subprocess('LHF')\n",
    "diffebm2.integrate_years(3)\n",
    "co2diffebm2 = climlab.process_like(co2diffebm)\n",
    "co2diffebm2.remove_subprocess('LHF')\n",
    "co2diffebm2.integrate_years(3)\n",
    "\n",
    "#  With transport and no evaporation...\n",
    "#  No polar amplification, either of surface or air temperature!\n",
    "plt.plot(diffebm2.lat, co2diffebm2.Ts - diffebm2.Ts, label='Ts')\n",
    "plt.plot(diffebm2.lat, co2diffebm2.Tatm[:,0] - diffebm2.Tatm[:,0], label='Tatm')\n",
    "plt.legend()\n",
    "plt.figure()\n",
    "\n",
    "#  And in this case, the lack of polar amplification is DESPITE an increase in the poleward heat transport.\n",
    "Rtoa = np.squeeze(diffebm2.timeave['ASR'] - diffebm2.timeave['OLR'])\n",
    "Rtoa_co2 = np.squeeze(co2diffebm2.timeave['ASR'] - co2diffebm2.timeave['OLR'])\n",
    "plt.plot(diffebm2.lat, inferred_heat_transport(Rtoa, diffebm2.lat), label='1xCO2')\n",
    "plt.plot(diffebm2.lat, inferred_heat_transport(Rtoa_co2, diffebm2.lat), label='2xCO2')\n",
    "plt.legend()\n"
   ]
  },
  {
   "cell_type": "markdown",
   "id": "e08e7eee",
   "metadata": {},
   "source": [
    "## Column model"
   ]
  },
  {
   "cell_type": "code",
   "execution_count": null,
   "id": "0c2b86f7",
   "metadata": {},
   "outputs": [],
   "source": [
    "model = climlab.GreyRadiationModel(num_lev=30, num_lat=90, abs_coeff=1.6E-4)\n",
    "insolation = climlab.radiation.AnnualMeanInsolation(domains=model.Ts.domain)\n",
    "model.add_subprocess('insolation', insolation)\n",
    "model.subprocess.SW.flux_from_space = model.subprocess.insolation.insolation\n",
    "print(model)\n",
    "\n",
    "#  Convective adjustment for atmosphere only\n",
    "conv = climlab.convection.ConvectiveAdjustment(state={'Tatm':model.Tatm}, adj_lapse_rate=6.5,\n",
    "                                                       **model.param)\n",
    "model.add_subprocess('convective adjustment', conv)\n",
    "\n",
    "#  add a fixed relative humidity process\n",
    "#  (will only affect surface evaporation)\n",
    "h2o = climlab.radiation.water_vapor.ManabeWaterVapor(state=model.state, **model.param)\n",
    "model.add_subprocess('H2O', h2o)\n",
    "\n",
    "#  Add surface heat fluxes\n",
    "shf = climlab.surface.SensibleHeatFlux(state=model.state, Cd=1E-3)\n",
    "lhf = climlab.surface.LatentHeatFlux(state=model.state, Cd=1E-3)\n",
    "lhf.q = model.subprocess.H2O.q\n",
    "model.add_subprocess('SHF', shf)\n",
    "model.add_subprocess('LHF', lhf)\n",
    "\n",
    "model.integrate_years(3.)\n",
    "\n",
    "def plot_temp_section(model, timeave=True):\n",
    "    fig = plt.figure()\n",
    "    ax = fig.add_subplot(111)\n",
    "    if timeave:\n",
    "        field = model.timeave['Tatm'].transpose()\n",
    "    else:\n",
    "        field = model.Tatm.transpose()\n",
    "    cax = ax.contourf(model.lat, model.lev, field)\n",
    "    ax.invert_yaxis()\n",
    "    ax.set_xlim(-90,90)\n",
    "    ax.set_xticks([-90, -60, -30, 0, 30, 60, 90])\n",
    "    fig.colorbar(cax)\n",
    "\n",
    "plot_temp_section(model, timeave=False)\n"
   ]
  },
  {
   "cell_type": "code",
   "execution_count": null,
   "id": "33015d6f",
   "metadata": {},
   "outputs": [],
   "source": [
    "co2model = climlab.process_like(model)\n",
    "co2model.subprocess['LW'].absorptivity = model.subprocess['LW'].absorptivity*1.1\n",
    "\n",
    "co2model.integrate_years(3)\n",
    "\n",
    "plot_temp_section(co2model, timeave=False)\n",
    "\n",
    "#  Without transport, get equatorial amplification\n",
    "plt.figure()\n",
    "plt.plot(model.lat, co2model.Ts - model.Ts, label='Ts')\n",
    "plt.plot(model.lat, co2model.Tatm[:,0] - model.Tatm[:,0], label='Tatm')\n",
    "plt.legend()\n"
   ]
  },
  {
   "cell_type": "markdown",
   "id": "adea641c",
   "metadata": {},
   "source": [
    "## Include meridional heat transport"
   ]
  },
  {
   "cell_type": "code",
   "execution_count": null,
   "id": "23397215",
   "metadata": {},
   "outputs": [],
   "source": [
    "diffmodel = climlab.process_like(model)\n",
    "\n",
    "# thermal diffusivity in W/m**2/degC\n",
    "D = 0.05\n",
    "# meridional diffusivity in m**2/s\n",
    "K = D / diffmodel.Tatm.domain.heat_capacity[0] * const.a**2\n",
    "print(K)\n",
    "\n",
    "d = climlab.dynamics.MeridionalDiffusion(K=K, state={'Tatm':diffmodel.Tatm}, **diffmodel.param)\n",
    "diffmodel.add_subprocess('diffusion', d)\n",
    "print(diffmodel)\n",
    "\n",
    "diffmodel.integrate_years(3)\n",
    "\n",
    "plot_temp_section(diffmodel)\n",
    "\n",
    "#  Plot the northward heat transport in this model\n",
    "plt.figure()\n",
    "Rtoa = np.squeeze(diffmodel.timeave['ASR'] - diffmodel.timeave['OLR'])\n",
    "plt.plot(diffmodel.lat, inferred_heat_transport(Rtoa, diffmodel.lat))\n"
   ]
  },
  {
   "cell_type": "code",
   "execution_count": null,
   "id": "862b7991",
   "metadata": {},
   "outputs": [],
   "source": [
    "##  Now warm it up!\n",
    "co2diffmodel = climlab.process_like(diffmodel)\n",
    "co2diffmodel.subprocess['LW'].absorptivity = diffmodel.subprocess['LW'].absorptivity*1.1\n",
    "\n",
    "co2diffmodel.integrate_years(3)\n",
    "\n",
    "#  With transport, get polar amplification...\n",
    "#   of surface temperature, but not of air temperature!\n",
    "plt.plot(diffmodel.lat, co2diffmodel.Ts - diffmodel.Ts, label='Ts')\n",
    "plt.plot(diffmodel.lat, co2diffmodel.Tatm[:,0] - diffmodel.Tatm[:,0], label='Tatm')\n",
    "plt.legend()\n",
    "\n",
    "\n",
    "Rtoa = np.squeeze(diffmodel.timeave['ASR'] - diffmodel.timeave['OLR'])\n",
    "plt.figure()\n",
    "Rtoa_co2 = np.squeeze(co2diffmodel.timeave['ASR'] - co2diffmodel.timeave['OLR'])\n",
    "plt.plot(diffmodel.lat, inferred_heat_transport(Rtoa, diffmodel.lat), label='1xCO2')\n",
    "plt.plot(diffmodel.lat, inferred_heat_transport(Rtoa_co2, diffmodel.lat), label='2xCO2')\n"
   ]
  },
  {
   "cell_type": "markdown",
   "id": "23628e9c",
   "metadata": {},
   "source": [
    "## Exclude evaporation"
   ]
  },
  {
   "cell_type": "code",
   "execution_count": null,
   "id": "758aab51",
   "metadata": {},
   "outputs": [],
   "source": [
    "diffmodel2 = climlab.process_like(diffmodel)\n",
    "diffmodel2.remove_subprocess('LHF')\n",
    "print(diffmodel2)\n",
    "\n",
    "diffmodel2.integrate_years(3)"
   ]
  },
  {
   "cell_type": "code",
   "execution_count": null,
   "id": "76661e6e",
   "metadata": {},
   "outputs": [],
   "source": [
    "co2diffmodel2 = climlab.process_like(co2diffmodel)\n",
    "co2diffmodel2.remove_subprocess('LHF')\n",
    "co2diffmodel2.integrate_years(3)\n"
   ]
  },
  {
   "cell_type": "code",
   "execution_count": null,
   "id": "3461176a",
   "metadata": {},
   "outputs": [],
   "source": [
    "#  With transport and no evaporation...\n",
    "#  No polar amplification, either of surface or air temperature!\n",
    "plt.plot(diffmodel2.lat, co2diffmodel2.Ts - diffmodel2.Ts, label='Ts')\n",
    "plt.plot(diffmodel2.lat, co2diffmodel2.Tatm[:,0] - diffmodel2.Tatm[:,0], label='Tatm')\n",
    "plt.legend()\n",
    "\n",
    "\n",
    "Rtoa = np.squeeze(diffmodel2.timeave['ASR'] - diffmodel2.timeave['OLR'])\n",
    "Rtoa_co2 = np.squeeze(co2diffmodel2.timeave['ASR'] - co2diffmodel2.timeave['OLR'])\n",
    "plt.figure()\n",
    "plt.plot(diffmodel2.lat, inferred_heat_transport(Rtoa, diffmodel2.lat), label='1xCO2')\n",
    "plt.plot(diffmodel2.lat, inferred_heat_transport(Rtoa_co2, diffmodel2.lat), label='2xCO2')\n"
   ]
  }
 ],
 "metadata": {
  "jupytext": {
   "text_representation": {
    "extension": ".md",
    "format_name": "myst"
   }
  },
  "kernelspec": {
   "display_name": "Python 3",
   "language": "python",
   "name": "python3"
  },
  "source_map": [
   10,
   20,
   26,
   30,
   56,
   66,
   69,
   86,
   101,
   118,
   125,
   128,
   150,
   154,
   197,
   211,
   215,
   239,
   259,
   262,
   270,
   277
  ]
 },
 "nbformat": 4,
 "nbformat_minor": 5
}